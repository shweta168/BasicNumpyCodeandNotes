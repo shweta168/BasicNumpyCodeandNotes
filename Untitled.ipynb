{
  "metadata": {
    "language_info": {
      "codemirror_mode": {
        "name": "python",
        "version": 3
      },
      "file_extension": ".py",
      "mimetype": "text/x-python",
      "name": "python",
      "nbconvert_exporter": "python",
      "pygments_lexer": "ipython3",
      "version": "3.8"
    },
    "kernelspec": {
      "name": "python",
      "display_name": "Python (Pyodide)",
      "language": "python"
    }
  },
  "nbformat_minor": 4,
  "nbformat": 4,
  "cells": [
    {
      "cell_type": "code",
      "source": "import numpy as np\narr=np.array([1,2,3,4])\nprint(arr)\nprint(type(arr))",
      "metadata": {
        "trusted": true
      },
      "execution_count": 3,
      "outputs": [
        {
          "name": "stdout",
          "text": "[1 2 3 4]\n<class 'numpy.ndarray'>\n",
          "output_type": "stream"
        }
      ]
    },
    {
      "cell_type": "code",
      "source": "arr/2\nprint('Multiplication')\narr*2",
      "metadata": {
        "trusted": true
      },
      "execution_count": 7,
      "outputs": [
        {
          "name": "stdout",
          "text": "Multiplication\n",
          "output_type": "stream"
        },
        {
          "execution_count": 7,
          "output_type": "execute_result",
          "data": {
            "text/plain": "array([2, 4, 6, 8])"
          },
          "metadata": {}
        }
      ]
    },
    {
      "cell_type": "code",
      "source": "list1 =[2,3,4]\nprint(type(list1))",
      "metadata": {
        "trusted": true
      },
      "execution_count": 4,
      "outputs": [
        {
          "name": "stdout",
          "text": "<class 'list'>\n",
          "output_type": "stream"
        }
      ]
    },
    {
      "cell_type": "markdown",
      "source": "In python List we cannot perform the division operation,where as multiplication(duplicating the elements),addition(means concatenation. But the rule of concatenation is that it should have atleast one \"Word or charecter\"),subtraction (Not possible will be giving an error).\nWhereas all these operation can be performed using numpy array. \n",
      "metadata": {}
    },
    {
      "cell_type": "code",
      "source": "arr2=np.array([1,1.2,'a'])\nprint(arr2)\nprint(type(arr2))\narr2/2",
      "metadata": {
        "trusted": true
      },
      "execution_count": 18,
      "outputs": [
        {
          "name": "stdout",
          "text": "['1' '1.2' 'a']\n<class 'numpy.ndarray'>\n",
          "output_type": "stream"
        },
        {
          "ename": "<class 'TypeError'>",
          "evalue": "ufunc 'true_divide' not supported for the input types, and the inputs could not be safely coerced to any supported types according to the casting rule ''safe''",
          "traceback": [
            "\u001b[0;31m---------------------------------------------------------------------------\u001b[0m",
            "\u001b[0;31mTypeError\u001b[0m                                 Traceback (most recent call last)",
            "Input \u001b[0;32mIn [18]\u001b[0m, in \u001b[0;36m<cell line: 4>\u001b[0;34m()\u001b[0m\n\u001b[1;32m      2\u001b[0m \u001b[38;5;28mprint\u001b[39m(arr2)\n\u001b[1;32m      3\u001b[0m \u001b[38;5;28mprint\u001b[39m(\u001b[38;5;28mtype\u001b[39m(arr2))\n\u001b[0;32m----> 4\u001b[0m \u001b[43marr2\u001b[49m\u001b[38;5;241;43m/\u001b[39;49m\u001b[38;5;241;43m2\u001b[39;49m\n",
            "\u001b[0;31mTypeError\u001b[0m: ufunc 'true_divide' not supported for the input types, and the inputs could not be safely coerced to any supported types according to the casting rule ''safe''"
          ],
          "output_type": "error"
        }
      ]
    },
    {
      "cell_type": "code",
      "source": "list1=[1,1.2,'a']\nprint(list1)\nprint(type(list1))",
      "metadata": {
        "trusted": true
      },
      "execution_count": 16,
      "outputs": [
        {
          "name": "stdout",
          "text": "[1, 1.2, 'a']\n<class 'list'>\n",
          "output_type": "stream"
        }
      ]
    },
    {
      "cell_type": "markdown",
      "source": "Comparison by Memory\n#Conclusion less memory is required for NUMPY ARRAY. \nMore Memory is required for LIST.",
      "metadata": {}
    },
    {
      "cell_type": "code",
      "source": "import sys\nS=range(1000) #passing the size of elements\n#Printing the size of each element in the list\nprint(\"The size of each element in the list:\",sys.getsizeof(S))\n#Printing the size of whole list\nprint(\"The size of whole list is:\",sys.getsizeof(S)*len(S))\n# Declaring the size for numpy array.\nD=np.arange(1000)\n#Printing the size of each element in the array numpy\nprint(\"The size of each element in the list:\",D.itemsize)\n#Printing the size of whole numpy array\nprint(\"The size of whole list is:\",D.size*D.itemsize)\n",
      "metadata": {
        "trusted": true
      },
      "execution_count": 20,
      "outputs": [
        {
          "name": "stdout",
          "text": "The size of each element in the list: 24\nThe size of whole list is: 24000\nThe size of each element in the list: 4\nThe size of whole list is: 4000\n",
          "output_type": "stream"
        }
      ]
    },
    {
      "cell_type": "markdown",
      "source": "Comparison by Time\nConclusion : Time taken by the numpy array is less as compare to the list.",
      "metadata": {}
    },
    {
      "cell_type": "code",
      "source": "# Here we are going to compare the time taken by the numpy array and list.\nimport time\nS=100000\n#for Python List\nlist1=range(S)\nlist2=range(S)\n#Intital Time\nintial_time=time.time()\n#lets perform multiplication operation\nresult=[(a*b) for a,b in zip(list1,list2)]\nprint(\"Time taken by the multiplication operation for list is :\",time.time()-intial_time)\n\n#for numpy array\narr1=np.arange(S)\narr2=np.arange(S)\n#Initial Time\ninitial_time=time.time()\n#lets perform the multiplication operation\narr=arr1*arr2\nprint(\"Time taken by the multiplication operation for numpy array is : \",time.time()-initial_time)",
      "metadata": {
        "trusted": true
      },
      "execution_count": 22,
      "outputs": [
        {
          "name": "stdout",
          "text": "Time taken by the multiplication operation for list is : 0.14400005340576172\nTime taken by the multiplication operation for numpy array is :  0.03399991989135742\n",
          "output_type": "stream"
        }
      ]
    },
    {
      "cell_type": "code",
      "source": "print(np.__version__)",
      "metadata": {
        "trusted": true
      },
      "execution_count": 4,
      "outputs": [
        {
          "name": "stdout",
          "text": "1.22.3\n",
          "output_type": "stream"
        }
      ]
    },
    {
      "cell_type": "markdown",
      "source": "##Creating ndarry()",
      "metadata": {}
    },
    {
      "cell_type": "code",
      "source": "arr=np.array([1,2,3])  #list\narr2=np.array((1,2,3,4,5)) #tuple\nprint(arr)\nprint(arr2)\narr3=np.array(range(10)) #range\nprint(arr3)\narr4=np.array({1:'a',2:'b'}) #Dictionary\nprint(arr4)\narr5=np.array({'apple','banana','cake'}) #SET\nprint(arr5)\narr6=np.array(frozenset({'apple','banana','cake'}))\nprint(arr6)\n\nprint(\"Type of array \",type(arr))",
      "metadata": {
        "trusted": true
      },
      "execution_count": 12,
      "outputs": [
        {
          "name": "stdout",
          "text": "[1 2 3]\n[1 2 3 4 5]\n[0 1 2 3 4 5 6 7 8 9]\n{1: 'a', 2: 'b'}\n{'cake', 'banana', 'apple'}\nfrozenset({'cake', 'banana', 'apple'})\nType of array  <class 'numpy.ndarray'>\n",
          "output_type": "stream"
        }
      ]
    },
    {
      "cell_type": "markdown",
      "source": "ARRAY. \nTo check the dimension we use __ndim__.\nTo specify the number of dimensions by using:-  __ndmin__",
      "metadata": {}
    },
    {
      "cell_type": "code",
      "source": "# 0-Dimensional Array\narr0=np.array(46)\nprint(\"Zero Dimensional array: \",arr0)\narr1=np.array([1,2,3])\nprint(\"One Dimensional array: \",arr1)\narr2=np.array([[1,2,3],[4,5,6]])\nprint(\"Two Dimensioal array: \",arr2)\narr3=np.array([[[1,2,4],[1,2,3]],[[6,7,8],[9,70,65]]])\nprint(\"Three Dimensional array: \",arr3)\nprint(\"the dimension of arr3 is : \", arr3.ndim)\n\narr4 = np.array([1, 2, 3, 4], ndmin=5)\nprint(arr4)",
      "metadata": {
        "trusted": true
      },
      "execution_count": 19,
      "outputs": [
        {
          "name": "stdout",
          "text": "Zero Dimensional array:  46\nOne Dimensional array:  [1 2 3]\nTwo Dimensioal array:  [[1 2 3]\n [4 5 6]]\nThree Dimensional array:  [[[ 1  2  4]\n  [ 1  2  3]]\n\n [[ 6  7  8]\n  [ 9 70 65]]]\nthe dimension of arr3 is :  3\n[[[[[1 2 3 4]]]]]\n",
          "output_type": "stream"
        }
      ]
    },
    {
      "cell_type": "markdown",
      "source": "Conversion of Datatype and to check the datatype",
      "metadata": {}
    },
    {
      "cell_type": "code",
      "source": "arr=np.array(['hello','hi'])\nprint(arr.dtype)\narr1=np.array(['hello','hi',12])\nprint(arr1.dtype)\n\nad=np.array([1,2,4],dtype='f')\nprint(ad.dtype)\nar=ad.astype('i')\nprint(ar.dtype)",
      "metadata": {
        "trusted": true
      },
      "execution_count": 27,
      "outputs": [
        {
          "name": "stdout",
          "text": "<U5\n<U11\nfloat32\nint32\n",
          "output_type": "stream"
        }
      ]
    },
    {
      "cell_type": "markdown",
      "source": "To create the Copy and View",
      "metadata": {}
    },
    {
      "cell_type": "code",
      "source": "arr=np.array([1,2,3,4])\ncopyarr=arr.copy()\nprint(\"Copy array\",copyarr)\n# any changes in the copy will not affect the original array.\ncopyarr[2]=45\nprint(\"Original array\",arr,\"Copied array\",copyarr)",
      "metadata": {
        "trusted": true
      },
      "execution_count": 30,
      "outputs": [
        {
          "name": "stdout",
          "text": "Copy array [1 2 3 4]\nOriginal array [1 2 3 4] Copied array [ 1  2 45  4]\n",
          "output_type": "stream"
        }
      ]
    },
    {
      "cell_type": "code",
      "source": "#creating the view:\narr=np.array([7,8,9,0])\nviewarray=arr.view()\nprint(\"View array\",viewarray)\n#any changes in the view will affect the original array.\nviewarray[0]=70\nprint(\"Original array\",arr,\"Viewed array\",viewarray)",
      "metadata": {
        "trusted": true
      },
      "execution_count": 32,
      "outputs": [
        {
          "name": "stdout",
          "text": "View array [7 8 9 0]\nOriginal array [70  8  9  0] Viewed array [70  8  9  0]\n",
          "output_type": "stream"
        }
      ]
    },
    {
      "cell_type": "code",
      "source": "# To check whether the copy and view owns the data or not\nprint(viewarray.base)\nprint(copyarr.base)",
      "metadata": {
        "trusted": true
      },
      "execution_count": 33,
      "outputs": [
        {
          "name": "stdout",
          "text": "[70  8  9  0]\nNone\n",
          "output_type": "stream"
        }
      ]
    },
    {
      "cell_type": "code",
      "source": "",
      "metadata": {},
      "execution_count": null,
      "outputs": []
    }
  ]
}